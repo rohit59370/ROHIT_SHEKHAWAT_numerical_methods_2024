{
 "cells": [
  {
   "cell_type": "markdown",
   "id": "6ff0fe3d",
   "metadata": {},
   "source": [
    "## Comments for Q1 to Q5"
   ]
  },
  {
   "cell_type": "markdown",
   "id": "3197cc6e",
   "metadata": {},
   "source": [
    "<span style=\"color: red;\"> \n",
    "Q1. 2/4 – your used numbers are not there in your given reference.\n",
    "\n",
    "Q2.  5/5\n",
    "\n",
    "Q3. 13/15 – no documentation, no mention of log scale in axis label.\n",
    "\n",
    "Q4. 18/20 – no documentation, didn’t take care of the ‘nan’ case.\n",
    "\n",
    "Q5. 3/5 – didn’t explain how you got the number.\n",
    "\n",
    "\n",
    " </span>"
   ]
  },
  {
   "cell_type": "markdown",
   "id": "14b9d8c4-b76d-4e60-9efc-20b813285828",
   "metadata": {},
   "source": [
    "# PROBLEM 6"
   ]
  },
  {
   "cell_type": "code",
   "execution_count": 21,
   "id": "d07ce6f6-b0bc-4922-9442-b703db383e65",
   "metadata": {},
   "outputs": [],
   "source": [
    "# Part A\n",
    "\n",
    "def factorial(n):\n",
    "    if n == 0:\n",
    "        return 1\n",
    "    else:\n",
    "        fact = 1\n",
    "        for i in range(1, n + 1):\n",
    "            fact = fact * i\n",
    "        return fact"
   ]
  },
  {
   "cell_type": "markdown",
   "id": "dcba2b7b",
   "metadata": {},
   "source": [
    "## <span style=\"color: red;\"> 5 </span>"
   ]
  },
  {
   "cell_type": "code",
   "execution_count": 24,
   "id": "6831d7bb-b244-4007-b3d5-4de3c9acf142",
   "metadata": {},
   "outputs": [],
   "source": [
    "# Part B\n",
    "\n",
    "def exponential_taylor(x):\n",
    "    result = 0\n",
    "    term = 1\n",
    "    n = 0\n",
    "    \n",
    "    while True:\n",
    "        current_factorial = factorial(n)\n",
    "        term = (x ** n) / current_factorial\n",
    "        \n",
    "        result += term\n",
    "\n",
    "        if term < 0.0000000001:\n",
    "            break\n",
    "        \n",
    "        n += 1\n",
    "\n",
    "    return result"
   ]
  },
  {
   "cell_type": "markdown",
   "id": "e6810b45",
   "metadata": {},
   "source": [
    "## <span style=\"color: red;\"> 6  termination condition?? </span>"
   ]
  },
  {
   "cell_type": "code",
   "execution_count": 25,
   "id": "7a517861-1923-4054-aa58-780afe945421",
   "metadata": {},
   "outputs": [
    {
     "name": "stdout",
     "output_type": "stream",
     "text": [
      "e^0.1 = 1.1051709180753966\n",
      "Time taken: 0.0 seconds\n",
      "-----------------------\n",
      "e^20 = 485165195.40979016\n",
      "Time taken: 0.0 seconds\n",
      "-----------------------\n"
     ]
    }
   ],
   "source": [
    "# PART C\n",
    "\n",
    "import time\n",
    "\n",
    "x_values = [0.1, 20]\n",
    "\n",
    "for x in x_values:\n",
    "\n",
    "    start_time = time.time()\n",
    "    result = exponential_taylor(x)\n",
    "    end_time = time.time()\n",
    "    print(f\"e^{x} = {result}\")\n",
    "    print(\"Time taken: \" + str(end_time - start_time) + \" seconds\")\n",
    "    print(\"-----------------------\")"
   ]
  },
  {
   "cell_type": "markdown",
   "id": "2b204e91",
   "metadata": {},
   "source": [
    "## <span style=\"color: red;\"> 2 </span>"
   ]
  },
  {
   "cell_type": "code",
   "execution_count": 26,
   "id": "24cb56cd-0d7b-4026-8e11-daca326c8600",
   "metadata": {},
   "outputs": [],
   "source": [
    "# PART 4\n",
    "\n",
    "def exponential_rec(x):\n",
    "    term = 1\n",
    "    cumulative_sum = term\n",
    "    n = 1\n",
    "    terms = [term]\n",
    "    cumulative_sums = [cumulative_sum]\n",
    "    \n",
    "    while True:\n",
    "        term = term * (x / n)\n",
    "        cumulative_sum += term\n",
    "        terms.append(term)\n",
    "        cumulative_sums.append(cumulative_sum)\n",
    "        \n",
    "        if abs(term) < 0.0000000001:\n",
    "            break\n",
    "        \n",
    "        n += 1\n",
    "    \n",
    "    return cumulative_sum, terms, cumulative_sums"
   ]
  },
  {
   "cell_type": "markdown",
   "id": "a4352be2",
   "metadata": {},
   "source": [
    "## <span style=\"color: red;\"> 8 termination condition </span>"
   ]
  },
  {
   "cell_type": "code",
   "execution_count": 27,
   "id": "ef126f72-9f62-4e4c-8354-cbd0de76b977",
   "metadata": {},
   "outputs": [],
   "source": [
    "# PART 5\n",
    "\n",
    "import time\n",
    "\n",
    "def compare_timing(x_values):\n",
    "    for x in x_values:\n",
    "        print(f\"\\nCalculating e^{x}...\")\n",
    "\n",
    "        start_time = time.time()\n",
    "        result_rec, terms_rec, cumulative_rec = exponential_rec(x)\n",
    "        end_time = time.time()\n",
    "        print(f\"Recurrence Relation Result: e^{x} = {result_rec}\")\n",
    "        # print(\"Terms:\", terms_rec)\n",
    "        # print(\"Cumulative Sums:\", cumulative_rec)\n",
    "        print(f\"Time taken (recurrence relation): {end_time - start_time} seconds\")\n",
    "        \n",
    "        start_time = time.time()\n",
    "        result_taylor = exponential_taylor(x)\n",
    "        end_time = time.time()\n",
    "        print(f\"Taylor Series Result: e^{x} = {result_taylor}\")\n",
    "        print(f\"Time taken (Taylor series): {end_time - start_time} seconds\")"
   ]
  },
  {
   "cell_type": "markdown",
   "id": "8114f0b2",
   "metadata": {},
   "source": [
    "## <span style=\"color: red;\"> 2 </span>"
   ]
  },
  {
   "cell_type": "code",
   "execution_count": 28,
   "id": "bee40284-a25b-4abb-998d-a68378d143c6",
   "metadata": {},
   "outputs": [
    {
     "name": "stdout",
     "output_type": "stream",
     "text": [
      "\n",
      "Calculating e^0.1...\n",
      "Recurrence Relation Result: e^0.1 = 1.1051709180753966\n",
      "Time taken (recurrence relation): 0.0 seconds\n",
      "Taylor Series Result: e^0.1 = 1.1051709180753966\n",
      "Time taken (Taylor series): 0.0 seconds\n",
      "\n",
      "Calculating e^20...\n",
      "Recurrence Relation Result: e^20 = 485165195.40979046\n",
      "Time taken (recurrence relation): 0.0 seconds\n",
      "Taylor Series Result: e^20 = 485165195.40979016\n",
      "Time taken (Taylor series): 0.0 seconds\n",
      "\n",
      "NumPy Result for e^0.1: 1.1051709180756477\n",
      "Recurrence Relation Result for e^0.1: 1.1051709180753966\n",
      "Discrepancy: 2.511324481702104e-13\n",
      "\n",
      "NumPy Result for e^20: 485165195.4097903\n",
      "Recurrence Relation Result for e^20: 485165195.40979046\n",
      "Discrepancy: 1.7881393432617188e-07\n"
     ]
    }
   ],
   "source": [
    "# PART 6\n",
    "\n",
    "import numpy as np\n",
    "\n",
    "def compare_with_numpy(x_values):\n",
    "    for x in x_values:\n",
    "        numpy_result = np.exp(x)\n",
    "        recurrence_result, terms_rec, cumulative_rec = exponential_rec(x)\n",
    "        discrepancy = abs(recurrence_result - numpy_result)\n",
    "        print(f\"\\nNumPy Result for e^{x}: {numpy_result}\")\n",
    "        print(f\"Recurrence Relation Result for e^{x}: {recurrence_result}\")\n",
    "        # print(f\"Terms Calculated: {terms_rec}\")\n",
    "        # print(f\"Cumulative Sums: {cumulative_rec}\")\n",
    "        print(f\"Discrepancy: {discrepancy}\")\n",
    "\n",
    "compare_timing(x_values)\n",
    "compare_with_numpy(x_values)"
   ]
  },
  {
   "cell_type": "markdown",
   "id": "cea33460",
   "metadata": {},
   "source": [
    "## <span style=\"color: red;\"> 2 </span>"
   ]
  },
  {
   "cell_type": "code",
   "execution_count": 29,
   "id": "0cc0c127-9f17-424a-9408-25aab0c33df7",
   "metadata": {},
   "outputs": [
    {
     "data": {
      "image/png": "[encoded data removed]",
      "text/plain": [
       "<Figure size 640x480 with 1 Axes>"
      ]
     },
     "metadata": {},
     "output_type": "display_data"
    }
   ],
   "source": [
    "# PART 7\n",
    "\n",
    "def plot_terms(x):\n",
    "    _, terms, _ = exponential_rec(x)\n",
    "    n_values = list(range(len(terms)))\n",
    "    plt.plot(n_values, terms, marker='o')\n",
    "    plt.title(f\"Individual Terms $X_n$ vs $n$ for $e^{{{x}}}$\")\n",
    "    plt.xlabel(\"n (Term Index)\")\n",
    "    plt.ylabel(\"$X_n$\")\n",
    "    plt.grid()\n",
    "    plt.show()\n",
    "\n",
    "plot_terms(20)"
   ]
  },
  {
   "cell_type": "markdown",
   "id": "fdbc3501",
   "metadata": {},
   "source": [
    "## <span style=\"color: red;\"> 9 turning point?\n",
    " </span>"
   ]
  },
  {
   "cell_type": "code",
   "execution_count": 30,
   "id": "e0dbed77-ea47-487a-a1dc-7cddddeafd88",
   "metadata": {},
   "outputs": [
    {
     "name": "stdout",
     "output_type": "stream",
     "text": [
      "Recurrence Relation Result for e^-20: 6.164184854939453e-09\n",
      "NumPy Result for e^-20: 2.061153622438558e-09\n",
      "Discrepancy: 4.1030312325008945e-09\n"
     ]
    }
   ],
   "source": [
    "# PART 8\n",
    "\n",
    "def evaluate_and_compare_negative(x):\n",
    "    recurrence_result, _, _ = exponential_rec(x)\n",
    "    numpy_result = np.exp(x)\n",
    "    discrepancy = abs(recurrence_result - numpy_result)\n",
    "    print(f\"Recurrence Relation Result for e^{x}: {recurrence_result}\")\n",
    "    print(f\"NumPy Result for e^{x}: {numpy_result}\")\n",
    "    print(f\"Discrepancy: {discrepancy}\")\n",
    "\n",
    "evaluate_and_compare_negative(-20)"
   ]
  },
  {
   "cell_type": "markdown",
   "id": "9dc07bf7",
   "metadata": {},
   "source": [
    "## <span style=\"color: red;\"> 8 explanation?? </span>"
   ]
  },
  {
   "cell_type": "code",
   "execution_count": 31,
   "id": "5ae86e61-0ba3-4b5b-b841-a8894cc36225",
   "metadata": {},
   "outputs": [
    {
     "name": "stdout",
     "output_type": "stream",
     "text": [
      "Inefficient Recurrence Relation Result for e^-20: 6.164184854939453e-09\n",
      "Efficient Method Result for e^-20: 2.061153622438557e-09\n",
      "NumPy Result for e^-20: 2.061153622438558e-09\n",
      "Discrepancy (Efficient): 8.271806125530277e-25\n",
      "Discrepancy (Inefficient): 4.1030312325008945e-09\n"
     ]
    }
   ],
   "source": [
    "# PART 9\n",
    "\n",
    "def evaluate_negative_better(x):\n",
    "    if x < 0:\n",
    "        positive_result, _, _ = exponential_rec(-x)\n",
    "        return 1 / positive_result\n",
    "    else:\n",
    "        return exponential_rec(x)[0]\n",
    "\n",
    "def evaluate_both_methods(x):\n",
    "    inefficient_result, _, _ = exponential_rec(x)\n",
    "    efficient_result = evaluate_negative_better(x)\n",
    "    numpy_result = np.exp(x)\n",
    "    print(f\"Inefficient Recurrence Relation Result for e^{x}: {inefficient_result}\")\n",
    "    print(f\"Efficient Method Result for e^{x}: {efficient_result}\")\n",
    "    print(f\"NumPy Result for e^{x}: {numpy_result}\")\n",
    "    print(f\"Discrepancy (Efficient): {abs(efficient_result - numpy_result)}\")\n",
    "    print(f\"Discrepancy (Inefficient): {abs(inefficient_result - numpy_result)}\")\n",
    "\n",
    "evaluate_both_methods(-20)"
   ]
  },
  {
   "cell_type": "markdown",
   "id": "5845427d",
   "metadata": {},
   "source": [
    "## <span style=\"color: red;\"> 2 </span>"
   ]
  },
  {
   "cell_type": "markdown",
   "id": "2171a9e9",
   "metadata": {},
   "source": []
  }
 ],
 "metadata": {
  "kernelspec": {
   "display_name": "Python 3 (ipykernel)",
   "language": "python",
   "name": "python3"
  },
  "language_info": {
   "codemirror_mode": {
    "name": "ipython",
    "version": 3
   },
   "file_extension": ".py",
   "mimetype": "text/x-python",
   "name": "python",
   "nbconvert_exporter": "python",
   "pygments_lexer": "ipython3",
   "version": "3.12.5"
  }
 },
 "nbformat": 4,
 "nbformat_minor": 5
}
